{
  "metadata": {
    "kernelspec": {
      "language": "python",
      "display_name": "Python 3",
      "name": "python3"
    },
    "language_info": {
      "name": "python",
      "version": "3.10.13",
      "mimetype": "text/x-python",
      "codemirror_mode": {
        "name": "ipython",
        "version": 3
      },
      "pygments_lexer": "ipython3",
      "nbconvert_exporter": "python",
      "file_extension": ".py"
    },
    "kaggle": {
      "accelerator": "nvidiaTeslaT4",
      "dataSources": [
        {
          "sourceId": 8550266,
          "sourceType": "datasetVersion",
          "datasetId": 5109219
        }
      ],
      "dockerImageVersionId": 30698,
      "isInternetEnabled": true,
      "language": "python",
      "sourceType": "notebook",
      "isGpuEnabled": true
    },
    "colab": {
      "provenance": [],
      "include_colab_link": true
    }
  },
  "nbformat_minor": 0,
  "nbformat": 4,
  "cells": [
    {
      "cell_type": "markdown",
      "metadata": {
        "id": "view-in-github",
        "colab_type": "text"
      },
      "source": [
        "<a href=\"https://colab.research.google.com/github/caromerou/fraudeb/blob/main/Modelos.ipynb\" target=\"_parent\"><img src=\"https://colab.research.google.com/assets/colab-badge.svg\" alt=\"Open In Colab\"/></a>"
      ]
    },
    {
      "cell_type": "code",
      "source": [
        "import pandas as pd\n",
        "\n",
        "from sklearn.preprocessing import LabelEncoder, StandardScaler\n",
        "from sklearn.model_selection import train_test_split\n",
        "from sklearn.tree import DecisionTreeClassifier\n",
        "from sklearn.metrics import classification_report, confusion_matrix, accuracy_score\n",
        "from sklearn.ensemble import GradientBoostingClassifier\n",
        "from sklearn.svm import SVC"
      ],
      "metadata": {
        "execution": {
          "iopub.status.busy": "2024-05-29T16:54:50.956379Z"
        },
        "trusted": true,
        "id": "jItteit-kE3I"
      },
      "execution_count": null,
      "outputs": []
    },
    {
      "cell_type": "code",
      "source": [
        "df = pd.read_csv('/kaggle/input/fraude/PS_20174392719_1491204439457_log.csv')"
      ],
      "metadata": {
        "trusted": true,
        "id": "4JQsxVwDkE3K"
      },
      "execution_count": null,
      "outputs": []
    },
    {
      "cell_type": "code",
      "source": [
        "df.head(10)"
      ],
      "metadata": {
        "trusted": true,
        "id": "5NKW0t_wkE3L"
      },
      "execution_count": null,
      "outputs": []
    },
    {
      "cell_type": "code",
      "source": [
        "df.shape"
      ],
      "metadata": {
        "trusted": true,
        "id": "gEG0RD_qkE3L"
      },
      "execution_count": null,
      "outputs": []
    },
    {
      "cell_type": "code",
      "source": [
        "df.info()"
      ],
      "metadata": {
        "trusted": true,
        "id": "vxGiopaRkE3M"
      },
      "execution_count": null,
      "outputs": []
    },
    {
      "cell_type": "code",
      "source": [
        "df.describe()"
      ],
      "metadata": {
        "trusted": true,
        "id": "fwgDNbPRkE3M"
      },
      "execution_count": null,
      "outputs": []
    },
    {
      "cell_type": "code",
      "source": [
        "any_nulls = df.isna().any().any()\n",
        "print(f\"¿Hay algún valor nulo en el DataFrame? {any_nulls}\")\n",
        "\n",
        "# Verificar si hay algún valor nulo en cada columna\n",
        "any_nulls_per_column = df.isna().any()\n",
        "print(any_nulls_per_column)"
      ],
      "metadata": {
        "trusted": true,
        "id": "pPK1NitBkE3N"
      },
      "execution_count": null,
      "outputs": []
    },
    {
      "cell_type": "code",
      "source": [
        "# Codificar variables categóricas\n",
        "le = LabelEncoder()\n",
        "df['type'] = le.fit_transform(df['type'])\n",
        "\n",
        "# Escalar características numéricas\n",
        "scaler = StandardScaler()\n",
        "df[['amount', 'oldbalanceOrg', 'newbalanceOrig', 'oldbalanceDest', 'newbalanceDest']] = scaler.fit_transform(\n",
        "    df[['amount', 'oldbalanceOrg', 'newbalanceOrig', 'oldbalanceDest', 'newbalanceDest']]\n",
        ")\n"
      ],
      "metadata": {
        "trusted": true,
        "id": "1l9lkFVvkE3N"
      },
      "execution_count": null,
      "outputs": []
    },
    {
      "cell_type": "code",
      "source": [
        "df.info()"
      ],
      "metadata": {
        "trusted": true,
        "id": "dXM90oUbkE3O"
      },
      "execution_count": null,
      "outputs": []
    },
    {
      "cell_type": "code",
      "source": [
        "# Definir las características y la variable objetivo\n",
        "X = df.drop(['isFraud', 'nameOrig', 'nameDest', 'isFlaggedFraud'], axis=1)\n",
        "y = df['isFraud']"
      ],
      "metadata": {
        "trusted": true,
        "id": "IBa83NVzkE3P"
      },
      "execution_count": null,
      "outputs": []
    },
    {
      "cell_type": "code",
      "source": [
        "# Dividir los datos\n",
        "X_train, X_test, y_train, y_test = train_test_split(X, y, test_size=0.2, random_state=42)"
      ],
      "metadata": {
        "trusted": true,
        "id": "uKEvf3LgkE3P"
      },
      "execution_count": null,
      "outputs": []
    },
    {
      "cell_type": "code",
      "source": [
        "# Crear el modelo\n",
        "clf = DecisionTreeClassifier(random_state=42)\n",
        "\n",
        "# Entrenar el modelo\n",
        "clf.fit(X_train, y_train)"
      ],
      "metadata": {
        "trusted": true,
        "id": "RIWx2LNukE3Q"
      },
      "execution_count": null,
      "outputs": []
    },
    {
      "cell_type": "code",
      "source": [
        "# Predecir en el conjunto de prueba\n",
        "y_pred = clf.predict(X_test)\n",
        "\n",
        "# Mostrar el reporte de clasificación\n",
        "print(classification_report(y_test, y_pred))\n",
        "\n",
        "# Mostrar la matriz de confusión\n",
        "print(confusion_matrix(y_test, y_pred))"
      ],
      "metadata": {
        "trusted": true,
        "id": "J1cqQN7tkE3Q"
      },
      "execution_count": null,
      "outputs": []
    },
    {
      "cell_type": "markdown",
      "source": [
        "**Gradient Boosting**"
      ],
      "metadata": {
        "id": "Utt1kIZCkE3Q"
      }
    },
    {
      "cell_type": "code",
      "source": [
        "# Crear el modelo\n",
        "gb_model = GradientBoostingClassifier(n_estimators=100, learning_rate=0.1, max_depth=3, random_state=42)\n",
        "\n",
        "# Entrenar el modelo\n",
        "gb_model.fit(X_train, y_train)\n",
        "\n",
        "# Hacer predicciones\n",
        "y_pred = gb_model.predict(X_test)\n",
        "\n",
        "# Evaluar el modelo\n",
        "print(\"Accuracy:\", accuracy_score(y_test, y_pred))\n",
        "print(\"Confusion Matrix:\\n\", confusion_matrix(y_test, y_pred))\n",
        "print(\"Classification Report:\\n\", classification_report(y_test, y_pred))"
      ],
      "metadata": {
        "trusted": true,
        "id": "gblwBhOwkE3U"
      },
      "execution_count": null,
      "outputs": []
    },
    {
      "cell_type": "markdown",
      "source": [
        "**Support Vector Machines (SVM)**"
      ],
      "metadata": {
        "id": "2LYZbOlskE3U"
      }
    },
    {
      "cell_type": "code",
      "source": [
        "# Crear el modelo\n",
        "svm_model = SVC(kernel='rbf', C=1.0, gamma='scale')\n",
        "\n",
        "# Entrenar el modelo\n",
        "svm_model.fit(X_train, y_train)\n",
        "\n",
        "# Hacer predicciones\n",
        "y_pred = svm_model.predict(X_test)\n",
        "\n",
        "# Evaluar el modelo\n",
        "print(\"Accuracy:\", accuracy_score(y_test, y_pred))\n",
        "print(\"Confusion Matrix:\\n\", confusion_matrix(y_test, y_pred))\n",
        "print(\"Classification Report:\\n\", classification_report(y_test, y_pred))"
      ],
      "metadata": {
        "trusted": true,
        "id": "mywMyuTmkE3V"
      },
      "execution_count": null,
      "outputs": []
    }
  ]
}